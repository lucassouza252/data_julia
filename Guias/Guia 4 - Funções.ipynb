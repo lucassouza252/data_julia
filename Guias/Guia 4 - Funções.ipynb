{
 "cells": [
  {
   "cell_type": "markdown",
   "metadata": {},
   "source": [
    "# Guia de Funções em Julia"
   ]
  },
  {
   "cell_type": "markdown",
   "metadata": {},
   "source": [
    "## Funções Úteis\n",
    "<p>São funções pré-programadas que estão presentes na biblioteca padrão do Julia.</p>"
   ]
  },
  {
   "cell_type": "code",
   "execution_count": 1,
   "metadata": {},
   "outputs": [
    {
     "data": {
      "text/plain": [
       "\"1.99\""
      ]
     },
     "execution_count": 1,
     "metadata": {},
     "output_type": "execute_result"
    }
   ],
   "source": [
    "# Variáveis para testes\n",
    "nome = \"lucas\"\n",
    "salario = \"1.99\""
   ]
  },
  {
   "cell_type": "code",
   "execution_count": 2,
   "metadata": {},
   "outputs": [
    {
     "name": "stdout",
     "output_type": "stream",
     "text": [
      "String \"1.99\"\n"
     ]
    }
   ],
   "source": [
    "# Função que retorna o tipo do dado em questão.\n",
    "dump(salario)"
   ]
  },
  {
   "cell_type": "code",
   "execution_count": 3,
   "metadata": {},
   "outputs": [
    {
     "data": {
      "text/plain": [
       "1.99"
      ]
     },
     "execution_count": 3,
     "metadata": {},
     "output_type": "execute_result"
    }
   ],
   "source": [
    "# Função que modifica o tipo do dado.\n",
    "parse(Float64, salario)"
   ]
  },
  {
   "cell_type": "markdown",
   "metadata": {},
   "source": [
    "## Criar Funções"
   ]
  },
  {
   "cell_type": "markdown",
   "metadata": {},
   "source": [
    "<p>Funções são criadas utilizando o operador $function$ seguido do nome da função e parentesis onde poderá conter argumentos. Em Julia, blocos de códigos são encerrados com a palavra chave $end$.</p>"
   ]
  },
  {
   "cell_type": "code",
   "execution_count": 4,
   "metadata": {},
   "outputs": [
    {
     "data": {
      "text/plain": [
       "contar (generic function with 1 method)"
      ]
     },
     "execution_count": 4,
     "metadata": {},
     "output_type": "execute_result"
    }
   ],
   "source": [
    "# Função que conta de 1 a 3.\n",
    "function contar()\n",
    "    for x in range(1, 3)\n",
    "        println(x)\n",
    "    end\n",
    "end"
   ]
  },
  {
   "cell_type": "code",
   "execution_count": 5,
   "metadata": {},
   "outputs": [
    {
     "name": "stdout",
     "output_type": "stream",
     "text": [
      "1\n",
      "2\n",
      "3\n"
     ]
    }
   ],
   "source": [
    "# Função são chamadas pelo seu nome, caso nao haja retorno, não é preciso atribuir a alguma variável.\n",
    "contar()"
   ]
  },
  {
   "cell_type": "code",
   "execution_count": 6,
   "metadata": {},
   "outputs": [
    {
     "data": {
      "text/plain": [
       "720"
      ]
     },
     "execution_count": 6,
     "metadata": {},
     "output_type": "execute_result"
    }
   ],
   "source": [
    "# Função que calcula o fatorial de um número 'n'.\n",
    "# Modo normal.\n",
    "function fatorial(n)\n",
    "    x = 1\n",
    "    while n != 0\n",
    "        x *= n\n",
    "        n-=1\n",
    "    end\n",
    "    return x\n",
    "end\n",
    "\n",
    "fatorial(6)"
   ]
  },
  {
   "cell_type": "code",
   "execution_count": 7,
   "metadata": {},
   "outputs": [
    {
     "data": {
      "text/plain": [
       "720"
      ]
     },
     "execution_count": 7,
     "metadata": {},
     "output_type": "execute_result"
    }
   ],
   "source": [
    "# Função que calcula o fatorial de um número 'n'.\n",
    "# Modo recursivo.\n",
    "function fat(n)\n",
    "    if n == 1 || n == 0\n",
    "        return 1\n",
    "    else\n",
    "        return n * fat(n-1)\n",
    "    end\n",
    "end\n",
    "\n",
    "fat(6)"
   ]
  },
  {
   "cell_type": "code",
   "execution_count": 8,
   "metadata": {},
   "outputs": [
    {
     "data": {
      "text/plain": [
       "6-element Array{Int64,1}:\n",
       " 1\n",
       " 1\n",
       " 2\n",
       " 3\n",
       " 5\n",
       " 8"
      ]
     },
     "execution_count": 8,
     "metadata": {},
     "output_type": "execute_result"
    }
   ],
   "source": [
    "# Função que calcula a sequência de Fibonacci para os primeiros 'n' números.\n",
    "function fibonacci(n)\n",
    "    x = 0\n",
    "    y = 1\n",
    "    fib = [1]\n",
    "    for i in range(1, n)\n",
    "        fib = [fib; x + y] # Concatenação de vetor com número\n",
    "        x, y = y, x + y        \n",
    "    end\n",
    "    \n",
    "    return fib\n",
    "end\n",
    "\n",
    "fibonacci(5)"
   ]
  }
 ],
 "metadata": {
  "@webio": {
   "lastCommId": "eb793de2236f48a08032a177d9cf6644",
   "lastKernelId": "23ecfbd7-e762-4c98-94c9-62ba3591b9f3"
  },
  "kernelspec": {
   "display_name": "Julia 1.0.2",
   "language": "julia",
   "name": "julia-1.0"
  },
  "language_info": {
   "file_extension": ".jl",
   "mimetype": "application/julia",
   "name": "julia",
   "version": "1.0.2"
  }
 },
 "nbformat": 4,
 "nbformat_minor": 2
}
